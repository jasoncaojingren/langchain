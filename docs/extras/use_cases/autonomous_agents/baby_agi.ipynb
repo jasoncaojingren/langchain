{
  "cells": [
    {
      "cell_type": "markdown",
      "id": "517a9fd4",
      "metadata": {
        "id": "517a9fd4"
      },
      "source": [
        "# BabyAGI User Guide\n",
        "\n",
        "This notebook demonstrates how to implement [BabyAGI](https://github.com/yoheinakajima/babyagi/tree/main) by [Yohei Nakajima](https://twitter.com/yoheinakajima). BabyAGI is an AI agent that can generate and pretend to execute tasks based on a given objective.\n",
        "\n",
        "This guide will help you understand the components to create your own recursive agents.\n",
        "\n",
        "Although BabyAGI uses specific vectorstores/model providers (Pinecone, OpenAI), one of the benefits of implementing it with LangChain is that you can easily swap those out for different options. In this implementation we use a FAISS vectorstore (because it runs locally and is free)."
      ]
    },
    {
      "cell_type": "markdown",
      "id": "556af556",
      "metadata": {
        "id": "556af556"
      },
      "source": [
        "## Install and Import Required Modules"
      ]
    },
    {
      "cell_type": "code",
      "execution_count": null,
      "id": "c8a354b6",
      "metadata": {
        "id": "c8a354b6"
      },
      "outputs": [],
      "source": [
        "import os\n",
        "from collections import deque\n",
        "from typing import Dict, List, Optional, Any\n",
        "\n",
        "from langchain import LLMChain, OpenAI, PromptTemplate\n",
        "from langchain.embeddings import OpenAIEmbeddings\n",
        "from langchain.llms import BaseLLM\n",
        "from langchain.vectorstores.base import VectorStore\n",
        "from pydantic import BaseModel, Field\n",
        "from langchain.chains.base import Chain\n",
        "from langchain.experimental import BabyAGI"
      ]
    },
    {
      "cell_type": "markdown",
      "id": "09f70772",
      "metadata": {
        "id": "09f70772"
      },
      "source": [
        "## Connect to the Vector Store\n",
        "\n",
        "Depending on what vectorstore you use, this step may look different."
      ]
    },
    {
      "cell_type": "code",
      "execution_count": null,
      "id": "794045d4",
      "metadata": {
        "id": "794045d4"
      },
      "outputs": [],
      "source": [
        "from langchain.vectorstores import FAISS\n",
        "from langchain.docstore import InMemoryDocstore"
      ]
    },
    {
      "cell_type": "code",
      "execution_count": null,
      "id": "6e0305eb",
      "metadata": {
        "id": "6e0305eb"
      },
      "outputs": [],
      "source": [
        "# Define your embedding model\n",
        "embeddings_model = OpenAIEmbeddings()\n",
        "# Initialize the vectorstore as empty\n",
        "import faiss\n",
        "\n",
        "embedding_size = 1536\n",
        "index = faiss.IndexFlatL2(embedding_size)\n",
        "vectorstore = FAISS(embeddings_model.embed_query, index, InMemoryDocstore({}), {})"
      ]
    },
    {
      "cell_type": "markdown",
      "source": [
        "(Optional) In order to use ElasticSearch as vectorstore, some example code for your reference\n",
        "    # connect to a vector store\n",
        "    embeddings_model = langchain.embeddings.OpenAIEmbeddings()\n",
        "    # Below line is needed as the babyagi soucre code now hardcoded to read this \"task\" metadata key\n",
        "    metadatas = [{\"task\": \"Make a todo list\"}]\n",
        "    init_texts = [\"BabyAGI\"]\n",
        "    vectorstore = langchain.vectorstores.elastic_vector_search.ElasticVectorSearch.from_texts(\n",
        "        texts=init_texts,\n",
        "        embedding=embeddings_model,\n",
        "        metadatas=metadatas,\n",
        "        elasticsearch_url=myconfig.ES_URL,\n",
        "        index_name=\"babyagi_1\",\n",
        "        refresh_indices=True\n",
        "    )\n",
        "    # Initiate the vector store\n",
        "    vectorstore.similarity_search(query=\"BabyAGI\")"
      ],
      "metadata": {
        "id": "9XrbXPGv1B2m"
      },
      "id": "9XrbXPGv1B2m"
    },
    {
      "cell_type": "markdown",
      "id": "05ba762e",
      "metadata": {
        "id": "05ba762e"
      },
      "source": [
        "### Run the BabyAGI\n",
        "\n",
        "Now it's time to create the BabyAGI controller and watch it try to accomplish your objective."
      ]
    },
    {
      "cell_type": "code",
      "execution_count": null,
      "id": "3d220b69",
      "metadata": {
        "id": "3d220b69"
      },
      "outputs": [],
      "source": [
        "OBJECTIVE = \"Write a weather report for SF today\""
      ]
    },
    {
      "cell_type": "code",
      "execution_count": null,
      "id": "8a8e5543",
      "metadata": {
        "id": "8a8e5543"
      },
      "outputs": [],
      "source": [
        "llm = OpenAI(temperature=0)"
      ]
    },
    {
      "cell_type": "code",
      "execution_count": null,
      "id": "3d69899b",
      "metadata": {
        "id": "3d69899b"
      },
      "outputs": [],
      "source": [
        "# Logging of LLMChains\n",
        "verbose = False\n",
        "# If None, will keep on going forever\n",
        "max_iterations: Optional[int] = 3\n",
        "baby_agi = BabyAGI.from_llm(\n",
        "    llm=llm, vectorstore=vectorstore, verbose=verbose, max_iterations=max_iterations\n",
        ")"
      ]
    },
    {
      "cell_type": "code",
      "execution_count": null,
      "id": "f7957b51",
      "metadata": {
        "scrolled": false,
        "id": "f7957b51",
        "outputId": "ad47e0d5-2cb5-4a7d-aa06-50577ff017d6"
      },
      "outputs": [
        {
          "name": "stdout",
          "output_type": "stream",
          "text": [
            "\u001b[95m\u001b[1m\n",
            "*****TASK LIST*****\n",
            "\u001b[0m\u001b[0m\n",
            "1: Make a todo list\n",
            "\u001b[92m\u001b[1m\n",
            "*****NEXT TASK*****\n",
            "\u001b[0m\u001b[0m\n",
            "1: Make a todo list\n",
            "\u001b[93m\u001b[1m\n",
            "*****TASK RESULT*****\n",
            "\u001b[0m\u001b[0m\n",
            "\n",
            "\n",
            "1. Check the weather forecast for San Francisco today\n",
            "2. Make note of the temperature, humidity, wind speed, and other relevant weather conditions\n",
            "3. Write a weather report summarizing the forecast\n",
            "4. Check for any weather alerts or warnings\n",
            "5. Share the report with the relevant stakeholders\n",
            "\u001b[95m\u001b[1m\n",
            "*****TASK LIST*****\n",
            "\u001b[0m\u001b[0m\n",
            "2: Check the current temperature in San Francisco\n",
            "3: Check the current humidity in San Francisco\n",
            "4: Check the current wind speed in San Francisco\n",
            "5: Check for any weather alerts or warnings in San Francisco\n",
            "6: Check the forecast for the next 24 hours in San Francisco\n",
            "7: Check the forecast for the next 48 hours in San Francisco\n",
            "8: Check the forecast for the next 72 hours in San Francisco\n",
            "9: Check the forecast for the next week in San Francisco\n",
            "10: Check the forecast for the next month in San Francisco\n",
            "11: Check the forecast for the next 3 months in San Francisco\n",
            "1: Write a weather report for SF today\n",
            "\u001b[92m\u001b[1m\n",
            "*****NEXT TASK*****\n",
            "\u001b[0m\u001b[0m\n",
            "2: Check the current temperature in San Francisco\n",
            "\u001b[93m\u001b[1m\n",
            "*****TASK RESULT*****\n",
            "\u001b[0m\u001b[0m\n",
            "\n",
            "\n",
            "I will check the current temperature in San Francisco. I will use an online weather service to get the most up-to-date information.\n",
            "\u001b[95m\u001b[1m\n",
            "*****TASK LIST*****\n",
            "\u001b[0m\u001b[0m\n",
            "3: Check the current UV index in San Francisco.\n",
            "4: Check the current air quality in San Francisco.\n",
            "5: Check the current precipitation levels in San Francisco.\n",
            "6: Check the current cloud cover in San Francisco.\n",
            "7: Check the current barometric pressure in San Francisco.\n",
            "8: Check the current dew point in San Francisco.\n",
            "9: Check the current wind direction in San Francisco.\n",
            "10: Check the current humidity levels in San Francisco.\n",
            "1: Check the current temperature in San Francisco to the average temperature for this time of year.\n",
            "2: Check the current visibility in San Francisco.\n",
            "11: Write a weather report for SF today.\n",
            "\u001b[92m\u001b[1m\n",
            "*****NEXT TASK*****\n",
            "\u001b[0m\u001b[0m\n",
            "3: Check the current UV index in San Francisco.\n",
            "\u001b[93m\u001b[1m\n",
            "*****TASK RESULT*****\n",
            "\u001b[0m\u001b[0m\n",
            "\n",
            "\n",
            "The current UV index in San Francisco is moderate. The UV index is expected to remain at moderate levels throughout the day. It is recommended to wear sunscreen and protective clothing when outdoors.\n",
            "\u001b[91m\u001b[1m\n",
            "*****TASK ENDING*****\n",
            "\u001b[0m\u001b[0m\n"
          ]
        },
        {
          "data": {
            "text/plain": [
              "{'objective': 'Write a weather report for SF today'}"
            ]
          },
          "execution_count": 7,
          "metadata": {},
          "output_type": "execute_result"
        }
      ],
      "source": [
        "baby_agi({\"objective\": OBJECTIVE})"
      ]
    },
    {
      "cell_type": "code",
      "execution_count": null,
      "id": "898a210b",
      "metadata": {
        "id": "898a210b"
      },
      "outputs": [],
      "source": []
    }
  ],
  "metadata": {
    "kernelspec": {
      "display_name": "Python 3 (ipykernel)",
      "language": "python",
      "name": "python3"
    },
    "language_info": {
      "codemirror_mode": {
        "name": "ipython",
        "version": 3
      },
      "file_extension": ".py",
      "mimetype": "text/x-python",
      "name": "python",
      "nbconvert_exporter": "python",
      "pygments_lexer": "ipython3",
      "version": "3.9.1"
    },
    "colab": {
      "provenance": []
    }
  },
  "nbformat": 4,
  "nbformat_minor": 5
}
